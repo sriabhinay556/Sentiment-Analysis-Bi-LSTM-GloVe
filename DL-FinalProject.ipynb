{
 "cells": [
  {
   "cell_type": "code",
   "execution_count": 8,
   "id": "2eb757dd-3c06-4544-8a00-e06be13b43f9",
   "metadata": {},
   "outputs": [
    {
     "name": "stdout",
     "output_type": "stream",
     "text": [
      "Requirement already satisfied: emoji in /Library/Frameworks/Python.framework/Versions/3.11/lib/python3.11/site-packages (2.14.1)\n"
     ]
    }
   ],
   "source": [
    "!pip install emoji"
   ]
  },
  {
   "cell_type": "code",
   "execution_count": 7,
   "id": "6f5e247d-7327-49d2-9441-8d273544244a",
   "metadata": {},
   "outputs": [],
   "source": [
    "import re, html, emoji, json\n",
    "import numpy as np\n",
    "import matplotlib.pyplot as plt\n",
    "from bs4 import BeautifulSoup\n",
    "import spacy\n",
    "import tensorflow as tf\n",
    "import tensorflow_datasets as tfds\n",
    "from tensorflow.keras.preprocessing.text import Tokenizer\n",
    "from tensorflow.keras.preprocessing.sequence import pad_sequences\n",
    "from tensorflow.keras.models import Sequential\n",
    "from tensorflow.keras.layers import Embedding, SpatialDropout1D, Bidirectional, LSTM, Dense, Dropout, LayerNormalization\n",
    "from tensorflow.keras.callbacks import EarlyStopping, CSVLogger\n",
    "# --- Parameters ---\n",
    "TOP_WORDS = 10000\n",
    "MAX_LEN = 200\n",
    "EMBED_DIM = 300 #v3 ->100 ->300\n",
    "BATCH_SIZE = 256 # v3-> 128-256\n",
    "EPOCHS = 20\n",
    "PLOT_DIR = \"./plots\"\n",
    "LOG_FILE = \"training_log.csv\"\n",
    "RESULT_JSON = \"results_summary.json\""
   ]
  },
  {
   "cell_type": "code",
   "execution_count": 6,
   "id": "c6a12634-e147-403d-9b81-981270a518e8",
   "metadata": {},
   "outputs": [
    {
     "name": "stdout",
     "output_type": "stream",
     "text": [
      "Loaded 400000 word vectors from GloVe.\n"
     ]
    }
   ],
   "source": [
    "# Change this path to where you placed glove.6B.100d.txt\n",
    "glove_path = \"/Users/abhi/Desktop/DL_FINALPROJECT/glove.6B.300d.txt\" # v3-> 100d to 300d\n",
    "\n",
    "embedding_index = {}\n",
    "with open(glove_path, encoding=\"utf8\") as f:\n",
    "    for line in f:\n",
    "        values = line.split()\n",
    "        word = values[0]\n",
    "        coefs = np.asarray(values[1:], dtype='float32')\n",
    "        embedding_index[word] = coefs\n",
    "\n",
    "print(f\"Loaded {len(embedding_index)} word vectors from GloVe.\")\n"
   ]
  },
  {
   "cell_type": "code",
   "execution_count": 8,
   "id": "2d687226-d342-4e48-8aed-276fd85a2383",
   "metadata": {},
   "outputs": [
    {
     "name": "stdout",
     "output_type": "stream",
     "text": [
      "dataset loaded.\n"
     ]
    }
   ],
   "source": [
    "# --- 1. Text cleaning function ---\n",
    "nlp = spacy.load(\"en_core_web_sm\", disable=[\"parser\", \"ner\"])\n",
    "def clean_text(text):\n",
    "    # txt = BeautifulSoup(text, \"lxml\").get_text(\" \")\n",
    "    txt = html.unescape(text)\n",
    "    txt = emoji.demojize(txt, delimiters=(\" \", \" \"))\n",
    "    txt = re.sub(r\"http\\S+|www\\S+\", \" \", txt)\n",
    "    txt = re.sub(r\"[^a-zA-Z!?'\\s]\", \" \", txt.lower())\n",
    "    doc = nlp(txt)\n",
    "    tokens = [\n",
    "        tok.lemma_ for tok in doc\n",
    "        if tok.text not in nlp.Defaults.stop_words and tok.text.strip()\n",
    "    ]\n",
    "    return \" \".join(tokens)\n",
    "\n",
    "# --- 2. Load IMDB and preprocess ---\n",
    "(ds_train, ds_test), _ = tfds.load(\n",
    "    \"imdb_reviews\", split=[\"train\", \"test\"], as_supervised=True, with_info=True\n",
    ")\n",
    "\n",
    "print(\"dataset loaded.\")\n"
   ]
  },
  {
   "cell_type": "code",
   "execution_count": 9,
   "id": "51d28f63-c295-4ea3-a5ad-25e2b6df2f95",
   "metadata": {},
   "outputs": [
    {
     "name": "stdout",
     "output_type": "stream",
     "text": [
      "cleaning data...\n"
     ]
    },
    {
     "name": "stderr",
     "output_type": "stream",
     "text": [
      "2025-04-30 20:41:05.507095: I tensorflow/core/kernels/data/tf_record_dataset_op.cc:387] The default buffer size is 262144, which is overridden by the user specified `buffer_size` of 8388608\n",
      "2025-04-30 20:53:12.850475: I tensorflow/core/framework/local_rendezvous.cc:407] Local rendezvous is aborting with status: OUT_OF_RANGE: End of sequence\n"
     ]
    },
    {
     "name": "stdout",
     "output_type": "stream",
     "text": [
      "data cleaned.\n"
     ]
    },
    {
     "name": "stderr",
     "output_type": "stream",
     "text": [
      "2025-04-30 21:04:44.775311: I tensorflow/core/framework/local_rendezvous.cc:407] Local rendezvous is aborting with status: OUT_OF_RANGE: End of sequence\n"
     ]
    }
   ],
   "source": [
    "print(\"cleaning data...\")\n",
    "train_texts, train_labels = [], []\n",
    "for text, label in tfds.as_numpy(ds_train):\n",
    "    train_texts.append(clean_text(text.decode(\"utf-8\")))\n",
    "    train_labels.append(label)\n",
    "\n",
    "test_texts, test_labels = [], []\n",
    "for text, label in tfds.as_numpy(ds_test):\n",
    "    test_texts.append(clean_text(text.decode(\"utf-8\")))\n",
    "    test_labels.append(label)\n",
    "print(\"data cleaned.\")"
   ]
  },
  {
   "cell_type": "code",
   "execution_count": 12,
   "id": "473d8b7a-6ee8-483d-8fb9-569401b5efdc",
   "metadata": {},
   "outputs": [
    {
     "name": "stdout",
     "output_type": "stream",
     "text": [
      "tokenization and paddding done.\n"
     ]
    }
   ],
   "source": [
    "\n",
    "# --- 3. Tokenize & pad ---\n",
    "tokenizer = Tokenizer(num_words=TOP_WORDS, oov_token=\"<OOV>\")\n",
    "tokenizer.fit_on_texts(train_texts)\n",
    "X_train = pad_sequences(tokenizer.texts_to_sequences(train_texts), maxlen=MAX_LEN)\n",
    "X_test = pad_sequences(tokenizer.texts_to_sequences(test_texts), maxlen=MAX_LEN)\n",
    "y_train = tf.convert_to_tensor(train_labels)\n",
    "y_test = tf.convert_to_tensor(test_labels)\n",
    "print(\"tokenization and paddding done.\")"
   ]
  },
  {
   "cell_type": "code",
   "execution_count": 13,
   "id": "c7ae1fe5-88a9-4240-8b66-8cb3f338a9ca",
   "metadata": {},
   "outputs": [],
   "source": [
    "# Build embedding matrix\n",
    "embedding_matrix = np.zeros((TOP_WORDS, EMBED_DIM))\n",
    "for word, i in tokenizer.word_index.items():\n",
    "    if i < TOP_WORDS:\n",
    "        vec = embedding_index.get(word)\n",
    "        if vec is not None:\n",
    "            embedding_matrix[i] = vec\n"
   ]
  },
  {
   "cell_type": "code",
   "execution_count": 14,
   "id": "56b99f9a-e793-44c7-b721-1422d2cb4ae1",
   "metadata": {},
   "outputs": [
    {
     "name": "stderr",
     "output_type": "stream",
     "text": [
      "/Library/Frameworks/Python.framework/Versions/3.11/lib/python3.11/site-packages/keras/src/layers/core/embedding.py:90: UserWarning: Argument `input_length` is deprecated. Just remove it.\n",
      "  warnings.warn(\n"
     ]
    },
    {
     "data": {
      "text/html": [
       "<pre style=\"white-space:pre;overflow-x:auto;line-height:normal;font-family:Menlo,'DejaVu Sans Mono',consolas,'Courier New',monospace\"><span style=\"font-weight: bold\">Model: \"sequential\"</span>\n",
       "</pre>\n"
      ],
      "text/plain": [
       "\u001b[1mModel: \"sequential\"\u001b[0m\n"
      ]
     },
     "metadata": {},
     "output_type": "display_data"
    },
    {
     "data": {
      "text/html": [
       "<pre style=\"white-space:pre;overflow-x:auto;line-height:normal;font-family:Menlo,'DejaVu Sans Mono',consolas,'Courier New',monospace\">┏━━━━━━━━━━━━━━━━━━━━━━━━━━━━━━━━━┳━━━━━━━━━━━━━━━━━━━━━━━━┳━━━━━━━━━━━━━━━┓\n",
       "┃<span style=\"font-weight: bold\"> Layer (type)                    </span>┃<span style=\"font-weight: bold\"> Output Shape           </span>┃<span style=\"font-weight: bold\">       Param # </span>┃\n",
       "┡━━━━━━━━━━━━━━━━━━━━━━━━━━━━━━━━━╇━━━━━━━━━━━━━━━━━━━━━━━━╇━━━━━━━━━━━━━━━┩\n",
       "│ embedding (<span style=\"color: #0087ff; text-decoration-color: #0087ff\">Embedding</span>)           │ ?                      │     <span style=\"color: #00af00; text-decoration-color: #00af00\">3,000,000</span> │\n",
       "├─────────────────────────────────┼────────────────────────┼───────────────┤\n",
       "│ spatial_dropout1d               │ ?                      │             <span style=\"color: #00af00; text-decoration-color: #00af00\">0</span> │\n",
       "│ (<span style=\"color: #0087ff; text-decoration-color: #0087ff\">SpatialDropout1D</span>)              │                        │               │\n",
       "├─────────────────────────────────┼────────────────────────┼───────────────┤\n",
       "│ bidirectional (<span style=\"color: #0087ff; text-decoration-color: #0087ff\">Bidirectional</span>)   │ ?                      │   <span style=\"color: #00af00; text-decoration-color: #00af00\">0</span> (unbuilt) │\n",
       "├─────────────────────────────────┼────────────────────────┼───────────────┤\n",
       "│ layer_normalization             │ ?                      │   <span style=\"color: #00af00; text-decoration-color: #00af00\">0</span> (unbuilt) │\n",
       "│ (<span style=\"color: #0087ff; text-decoration-color: #0087ff\">LayerNormalization</span>)            │                        │               │\n",
       "├─────────────────────────────────┼────────────────────────┼───────────────┤\n",
       "│ bidirectional_1 (<span style=\"color: #0087ff; text-decoration-color: #0087ff\">Bidirectional</span>) │ ?                      │   <span style=\"color: #00af00; text-decoration-color: #00af00\">0</span> (unbuilt) │\n",
       "├─────────────────────────────────┼────────────────────────┼───────────────┤\n",
       "│ layer_normalization_1           │ ?                      │   <span style=\"color: #00af00; text-decoration-color: #00af00\">0</span> (unbuilt) │\n",
       "│ (<span style=\"color: #0087ff; text-decoration-color: #0087ff\">LayerNormalization</span>)            │                        │               │\n",
       "├─────────────────────────────────┼────────────────────────┼───────────────┤\n",
       "│ dropout (<span style=\"color: #0087ff; text-decoration-color: #0087ff\">Dropout</span>)               │ ?                      │             <span style=\"color: #00af00; text-decoration-color: #00af00\">0</span> │\n",
       "├─────────────────────────────────┼────────────────────────┼───────────────┤\n",
       "│ dense (<span style=\"color: #0087ff; text-decoration-color: #0087ff\">Dense</span>)                   │ ?                      │   <span style=\"color: #00af00; text-decoration-color: #00af00\">0</span> (unbuilt) │\n",
       "└─────────────────────────────────┴────────────────────────┴───────────────┘\n",
       "</pre>\n"
      ],
      "text/plain": [
       "┏━━━━━━━━━━━━━━━━━━━━━━━━━━━━━━━━━┳━━━━━━━━━━━━━━━━━━━━━━━━┳━━━━━━━━━━━━━━━┓\n",
       "┃\u001b[1m \u001b[0m\u001b[1mLayer (type)                   \u001b[0m\u001b[1m \u001b[0m┃\u001b[1m \u001b[0m\u001b[1mOutput Shape          \u001b[0m\u001b[1m \u001b[0m┃\u001b[1m \u001b[0m\u001b[1m      Param #\u001b[0m\u001b[1m \u001b[0m┃\n",
       "┡━━━━━━━━━━━━━━━━━━━━━━━━━━━━━━━━━╇━━━━━━━━━━━━━━━━━━━━━━━━╇━━━━━━━━━━━━━━━┩\n",
       "│ embedding (\u001b[38;5;33mEmbedding\u001b[0m)           │ ?                      │     \u001b[38;5;34m3,000,000\u001b[0m │\n",
       "├─────────────────────────────────┼────────────────────────┼───────────────┤\n",
       "│ spatial_dropout1d               │ ?                      │             \u001b[38;5;34m0\u001b[0m │\n",
       "│ (\u001b[38;5;33mSpatialDropout1D\u001b[0m)              │                        │               │\n",
       "├─────────────────────────────────┼────────────────────────┼───────────────┤\n",
       "│ bidirectional (\u001b[38;5;33mBidirectional\u001b[0m)   │ ?                      │   \u001b[38;5;34m0\u001b[0m (unbuilt) │\n",
       "├─────────────────────────────────┼────────────────────────┼───────────────┤\n",
       "│ layer_normalization             │ ?                      │   \u001b[38;5;34m0\u001b[0m (unbuilt) │\n",
       "│ (\u001b[38;5;33mLayerNormalization\u001b[0m)            │                        │               │\n",
       "├─────────────────────────────────┼────────────────────────┼───────────────┤\n",
       "│ bidirectional_1 (\u001b[38;5;33mBidirectional\u001b[0m) │ ?                      │   \u001b[38;5;34m0\u001b[0m (unbuilt) │\n",
       "├─────────────────────────────────┼────────────────────────┼───────────────┤\n",
       "│ layer_normalization_1           │ ?                      │   \u001b[38;5;34m0\u001b[0m (unbuilt) │\n",
       "│ (\u001b[38;5;33mLayerNormalization\u001b[0m)            │                        │               │\n",
       "├─────────────────────────────────┼────────────────────────┼───────────────┤\n",
       "│ dropout (\u001b[38;5;33mDropout\u001b[0m)               │ ?                      │             \u001b[38;5;34m0\u001b[0m │\n",
       "├─────────────────────────────────┼────────────────────────┼───────────────┤\n",
       "│ dense (\u001b[38;5;33mDense\u001b[0m)                   │ ?                      │   \u001b[38;5;34m0\u001b[0m (unbuilt) │\n",
       "└─────────────────────────────────┴────────────────────────┴───────────────┘\n"
      ]
     },
     "metadata": {},
     "output_type": "display_data"
    },
    {
     "data": {
      "text/html": [
       "<pre style=\"white-space:pre;overflow-x:auto;line-height:normal;font-family:Menlo,'DejaVu Sans Mono',consolas,'Courier New',monospace\"><span style=\"font-weight: bold\"> Total params: </span><span style=\"color: #00af00; text-decoration-color: #00af00\">3,000,000</span> (11.44 MB)\n",
       "</pre>\n"
      ],
      "text/plain": [
       "\u001b[1m Total params: \u001b[0m\u001b[38;5;34m3,000,000\u001b[0m (11.44 MB)\n"
      ]
     },
     "metadata": {},
     "output_type": "display_data"
    },
    {
     "data": {
      "text/html": [
       "<pre style=\"white-space:pre;overflow-x:auto;line-height:normal;font-family:Menlo,'DejaVu Sans Mono',consolas,'Courier New',monospace\"><span style=\"font-weight: bold\"> Trainable params: </span><span style=\"color: #00af00; text-decoration-color: #00af00\">3,000,000</span> (11.44 MB)\n",
       "</pre>\n"
      ],
      "text/plain": [
       "\u001b[1m Trainable params: \u001b[0m\u001b[38;5;34m3,000,000\u001b[0m (11.44 MB)\n"
      ]
     },
     "metadata": {},
     "output_type": "display_data"
    },
    {
     "data": {
      "text/html": [
       "<pre style=\"white-space:pre;overflow-x:auto;line-height:normal;font-family:Menlo,'DejaVu Sans Mono',consolas,'Courier New',monospace\"><span style=\"font-weight: bold\"> Non-trainable params: </span><span style=\"color: #00af00; text-decoration-color: #00af00\">0</span> (0.00 B)\n",
       "</pre>\n"
      ],
      "text/plain": [
       "\u001b[1m Non-trainable params: \u001b[0m\u001b[38;5;34m0\u001b[0m (0.00 B)\n"
      ]
     },
     "metadata": {},
     "output_type": "display_data"
    },
    {
     "name": "stdout",
     "output_type": "stream",
     "text": [
      "Epoch 1/20\n",
      "\u001b[1m98/98\u001b[0m \u001b[32m━━━━━━━━━━━━━━━━━━━━\u001b[0m\u001b[37m\u001b[0m \u001b[1m495s\u001b[0m 5s/step - accuracy: 0.5536 - loss: 0.8800 - val_accuracy: 0.7902 - val_loss: 0.4607\n",
      "Epoch 2/20\n",
      "\u001b[1m98/98\u001b[0m \u001b[32m━━━━━━━━━━━━━━━━━━━━\u001b[0m\u001b[37m\u001b[0m \u001b[1m509s\u001b[0m 5s/step - accuracy: 0.7465 - loss: 0.5313 - val_accuracy: 0.8394 - val_loss: 0.3758\n",
      "Epoch 3/20\n",
      "\u001b[1m98/98\u001b[0m \u001b[32m━━━━━━━━━━━━━━━━━━━━\u001b[0m\u001b[37m\u001b[0m \u001b[1m454s\u001b[0m 5s/step - accuracy: 0.8105 - loss: 0.4312 - val_accuracy: 0.8533 - val_loss: 0.3414\n",
      "Epoch 4/20\n",
      "\u001b[1m98/98\u001b[0m \u001b[32m━━━━━━━━━━━━━━━━━━━━\u001b[0m\u001b[37m\u001b[0m \u001b[1m450s\u001b[0m 5s/step - accuracy: 0.8469 - loss: 0.3624 - val_accuracy: 0.8701 - val_loss: 0.3114\n",
      "Epoch 5/20\n",
      "\u001b[1m98/98\u001b[0m \u001b[32m━━━━━━━━━━━━━━━━━━━━\u001b[0m\u001b[37m\u001b[0m \u001b[1m450s\u001b[0m 5s/step - accuracy: 0.8671 - loss: 0.3252 - val_accuracy: 0.8764 - val_loss: 0.3051\n",
      "Epoch 6/20\n",
      "\u001b[1m98/98\u001b[0m \u001b[32m━━━━━━━━━━━━━━━━━━━━\u001b[0m\u001b[37m\u001b[0m \u001b[1m456s\u001b[0m 5s/step - accuracy: 0.8812 - loss: 0.2961 - val_accuracy: 0.8740 - val_loss: 0.3088\n",
      "Epoch 7/20\n",
      "\u001b[1m98/98\u001b[0m \u001b[32m━━━━━━━━━━━━━━━━━━━━\u001b[0m\u001b[37m\u001b[0m \u001b[1m487s\u001b[0m 5s/step - accuracy: 0.8961 - loss: 0.2648 - val_accuracy: 0.8760 - val_loss: 0.2987\n",
      "Epoch 8/20\n",
      "\u001b[1m98/98\u001b[0m \u001b[32m━━━━━━━━━━━━━━━━━━━━\u001b[0m\u001b[37m\u001b[0m \u001b[1m459s\u001b[0m 5s/step - accuracy: 0.9034 - loss: 0.2474 - val_accuracy: 0.8788 - val_loss: 0.2961\n",
      "Epoch 9/20\n",
      "\u001b[1m98/98\u001b[0m \u001b[32m━━━━━━━━━━━━━━━━━━━━\u001b[0m\u001b[37m\u001b[0m \u001b[1m461s\u001b[0m 5s/step - accuracy: 0.9119 - loss: 0.2314 - val_accuracy: 0.8799 - val_loss: 0.3067\n",
      "Epoch 10/20\n",
      "\u001b[1m98/98\u001b[0m \u001b[32m━━━━━━━━━━━━━━━━━━━━\u001b[0m\u001b[37m\u001b[0m \u001b[1m456s\u001b[0m 5s/step - accuracy: 0.9216 - loss: 0.2077 - val_accuracy: 0.8790 - val_loss: 0.3040\n",
      "Epoch 11/20\n",
      "\u001b[1m98/98\u001b[0m \u001b[32m━━━━━━━━━━━━━━━━━━━━\u001b[0m\u001b[37m\u001b[0m \u001b[1m443s\u001b[0m 5s/step - accuracy: 0.9271 - loss: 0.1994 - val_accuracy: 0.8764 - val_loss: 0.3214\n",
      "Epoch 12/20\n",
      "\u001b[1m98/98\u001b[0m \u001b[32m━━━━━━━━━━━━━━━━━━━━\u001b[0m\u001b[37m\u001b[0m \u001b[1m432s\u001b[0m 4s/step - accuracy: 0.9325 - loss: 0.1806 - val_accuracy: 0.8743 - val_loss: 0.3286\n",
      "Epoch 13/20\n",
      "\u001b[1m98/98\u001b[0m \u001b[32m━━━━━━━━━━━━━━━━━━━━\u001b[0m\u001b[37m\u001b[0m \u001b[1m433s\u001b[0m 4s/step - accuracy: 0.9338 - loss: 0.1794 - val_accuracy: 0.8737 - val_loss: 0.3550\n"
     ]
    }
   ],
   "source": [
    "\n",
    "# --- 4. Build Bi-LSTM model with GloVe ---\n",
    "model = Sequential([\n",
    "    Embedding(TOP_WORDS, EMBED_DIM, weights=[embedding_matrix], input_length=MAX_LEN, trainable=True),\n",
    "    SpatialDropout1D(0.4),\n",
    "    Bidirectional(LSTM(128, return_sequences=True, dropout=0.3, recurrent_dropout=0.2)), \n",
    "    LayerNormalization(),  \n",
    "    Bidirectional(LSTM(64, dropout=0.3, recurrent_dropout=0.2)),  \n",
    "    LayerNormalization(), \n",
    "    Dropout(0.5),  \n",
    "    Dense(1, activation=\"sigmoid\")\n",
    "])\n",
    "model.compile(loss=\"binary_crossentropy\", optimizer=\"adam\", metrics=[\"accuracy\"])\n",
    "model.summary()\n",
    "\n",
    "\n",
    "# --- 5. Callbacks: EarlyStopping + CSVLogger ---\n",
    "early_stop = EarlyStopping(monitor=\"val_loss\", patience=5, restore_best_weights=True)\n",
    "csv_logger = CSVLogger(LOG_FILE)\n",
    "\n",
    "# --- 6. Train model ---\n",
    "history = model.fit(\n",
    "    X_train, y_train,\n",
    "    validation_data=(X_test, y_test),\n",
    "    epochs=EPOCHS,\n",
    "    batch_size=BATCH_SIZE,\n",
    "    callbacks=[early_stop, csv_logger],\n",
    "    verbose=1\n",
    ")\n"
   ]
  },
  {
   "cell_type": "code",
   "execution_count": 15,
   "id": "0ea619eb-ce99-461f-9202-cd908f757e42",
   "metadata": {},
   "outputs": [
    {
     "name": "stdout",
     "output_type": "stream",
     "text": [
      "\u001b[1m782/782\u001b[0m \u001b[32m━━━━━━━━━━━━━━━━━━━━\u001b[0m\u001b[37m\u001b[0m \u001b[1m128s\u001b[0m 164ms/step - accuracy: 0.8780 - loss: 0.3018\n",
      "\n",
      "Test Accuracy: 0.8787599802017212\n",
      "\n",
      "Test Loss: 0.29606398940086365\n",
      "\n",
      "Train Accuracy:  0.9369199872016907\n"
     ]
    },
    {
     "data": {
      "image/png": "[encoded data removed]",
      "text/plain": [
       "<Figure size 640x480 with 1 Axes>"
      ]
     },
     "metadata": {},
     "output_type": "display_data"
    },
    {
     "data": {
      "image/png": "[encoded data removed]",
      "text/plain": [
       "<Figure size 640x480 with 1 Axes>"
      ]
     },
     "metadata": {},
     "output_type": "display_data"
    }
   ],
   "source": [
    "\n",
    "# --- 7. Evaluate & save results ---\n",
    "loss, acc = model.evaluate(X_test, y_test, verbose=1)\n",
    "summary_data = {\n",
    "    \"test_loss\": round(float(loss), 4),\n",
    "    \"test_accuracy\": round(float(acc), 4),\n",
    "    \"epochs_ran\": len(history.history['accuracy']),\n",
    "    \"embedding_dim\": EMBED_DIM,\n",
    "    \"max_sequence_len\": MAX_LEN,\n",
    "    \"top_words\": TOP_WORDS,\n",
    "    \"batch_size\": BATCH_SIZE\n",
    "}\n",
    "with open(RESULT_JSON, \"w\") as f:\n",
    "    json.dump(summary_data, f, indent=2)\n",
    "\n",
    "print(\"\\nTest Accuracy:\", acc)\n",
    "print(\"\\nTest Loss:\", loss)\n",
    "\n",
    "print(\"\\nTrain Accuracy: \", history.history['accuracy'][-1])\n",
    "\n",
    "# --- 8. Plot training history ---\n",
    "epochs_range = range(1, len(history.history['accuracy']) + 1)\n",
    "\n",
    "plt.figure()\n",
    "plt.plot(epochs_range, history.history['accuracy'], label='Train Acc')\n",
    "plt.plot(epochs_range, history.history['val_accuracy'], label='Val Acc')\n",
    "plt.title('Training and Validation Accuracy')\n",
    "plt.xlabel('Epoch')\n",
    "plt.ylabel('Accuracy')\n",
    "plt.legend()\n",
    "plt.tight_layout()\n",
    "import os\n",
    "os.makedirs(PLOT_DIR, exist_ok=True)\n",
    "plt.savefig(f\"{PLOT_DIR}/accuracy_plot.png\")\n",
    "\n",
    "plt.figure()\n",
    "plt.plot(epochs_range, history.history['loss'], label='Train Loss')\n",
    "plt.plot(epochs_range, history.history['val_loss'], label='Val Loss')\n",
    "plt.title('Training and Validation Loss')\n",
    "plt.xlabel('Epoch')\n",
    "plt.ylabel('Loss')\n",
    "plt.legend()\n",
    "plt.tight_layout()\n",
    "plt.savefig(f\"{PLOT_DIR}/loss_plot.png\")"
   ]
  }
 ],
 "metadata": {
  "kernelspec": {
   "display_name": "Python 3 (ipykernel)",
   "language": "python",
   "name": "python3"
  },
  "language_info": {
   "codemirror_mode": {
    "name": "ipython",
    "version": 3
   },
   "file_extension": ".py",
   "mimetype": "text/x-python",
   "name": "python",
   "nbconvert_exporter": "python",
   "pygments_lexer": "ipython3",
   "version": "3.11.5"
  }
 },
 "nbformat": 4,
 "nbformat_minor": 5
}
